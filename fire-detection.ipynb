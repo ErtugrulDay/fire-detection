{
 "cells": [
  {
   "cell_type": "code",
   "execution_count": 1,
   "metadata": {},
   "outputs": [],
   "source": [
    "from keras.preprocessing.image import ImageDataGenerator"
   ]
  },
  {
   "cell_type": "code",
   "execution_count": 2,
   "metadata": {},
   "outputs": [],
   "source": [
    "training_dir=\"fire_dataset/Train\"\n",
    "validation_dir=\"fire_dataset/Validation\"\n"
   ]
  },
  {
   "cell_type": "code",
   "execution_count": 3,
   "metadata": {},
   "outputs": [
    {
     "name": "stdout",
     "output_type": "stream",
     "text": [
      "Found 800 images belonging to 2 classes.\n",
      "Found 199 images belonging to 2 classes.\n"
     ]
    }
   ],
   "source": [
    "training_data_generator=ImageDataGenerator(rescale=1./255,\n",
    "                                           horizontal_flip=True,\n",
    "                                           vertical_flip=True,\n",
    "                                           height_shift_range=0.2,\n",
    "                                           width_shift_range=0.2,\n",
    "                                           rotation_range=45,\n",
    "                                           fill_mode=\"nearest\")\n",
    "validation_data_generator=ImageDataGenerator(rescale=1./255)\n",
    "train_generator=training_data_generator.flow_from_directory(training_dir,target_size=(224,224),\n",
    "                                                              class_mode=\"categorical\",batch_size=16)\n",
    "validation_generator=validation_data_generator.flow_from_directory(validation_dir,target_size=(224,224),\n",
    "                                                              class_mode=\"categorical\",batch_size=16)"
   ]
  },
  {
   "cell_type": "code",
   "execution_count": 4,
   "metadata": {},
   "outputs": [],
   "source": [
    "# import keras \n",
    "from keras.models import Sequential\n",
    "from keras.layers import Conv2D,MaxPool2D,Dense,Flatten,Dropout"
   ]
  },
  {
   "cell_type": "code",
   "execution_count": 5,
   "metadata": {},
   "outputs": [],
   "source": [
    "input_shape=(224,224,3)\n",
    "model=Sequential()\n",
    "model.add(Conv2D(96,(11,11),strides=(4,4),activation=\"relu\",input_shape=input_shape))\n",
    "model.add(MaxPool2D(pool_size=(3,3),strides=(2,2)))\n",
    "\n",
    "model.add(Conv2D(256,(5,5),activation=\"relu\"))\n",
    "model.add(MaxPool2D(pool_size=(3,3),strides=(2,2)))\n",
    "\n",
    "model.add(Conv2D(512,(5,5),activation=\"relu\"))\n",
    "model.add(MaxPool2D(pool_size=(3,3),strides=(2,2)))\n",
    "\n",
    "model.add(Flatten())\n",
    "model.add(Dropout(0.3))\n",
    "\n",
    "model.add(Dense(2048,activation=\"relu\"))\n",
    "model.add(Dropout(0.3))\n",
    "\n",
    "model.add(Dense(1024,activation=\"relu\"))\n",
    "model.add(Dropout(0.3))\n",
    "\n",
    "model.add(Dense(2,activation=\"softmax\"))"
   ]
  },
  {
   "cell_type": "code",
   "execution_count": 6,
   "metadata": {},
   "outputs": [],
   "source": [
    "model.compile(loss=\"categorical_crossentropy\",optimizer=\"Adam\",metrics=[\"accuracy\"])"
   ]
  },
  {
   "cell_type": "code",
   "execution_count": 7,
   "metadata": {},
   "outputs": [
    {
     "name": "stdout",
     "output_type": "stream",
     "text": [
      "Model: \"sequential\"\n",
      "_________________________________________________________________\n",
      " Layer (type)                Output Shape              Param #   \n",
      "=================================================================\n",
      " conv2d (Conv2D)             (None, 54, 54, 96)        34944     \n",
      "                                                                 \n",
      " max_pooling2d (MaxPooling2  (None, 26, 26, 96)        0         \n",
      " D)                                                              \n",
      "                                                                 \n",
      " conv2d_1 (Conv2D)           (None, 22, 22, 256)       614656    \n",
      "                                                                 \n",
      " max_pooling2d_1 (MaxPoolin  (None, 10, 10, 256)       0         \n",
      " g2D)                                                            \n",
      "                                                                 \n",
      " conv2d_2 (Conv2D)           (None, 6, 6, 512)         3277312   \n",
      "                                                                 \n",
      " max_pooling2d_2 (MaxPoolin  (None, 2, 2, 512)         0         \n",
      " g2D)                                                            \n",
      "                                                                 \n",
      " flatten (Flatten)           (None, 2048)              0         \n",
      "                                                                 \n",
      " dropout (Dropout)           (None, 2048)              0         \n",
      "                                                                 \n",
      " dense (Dense)               (None, 2048)              4196352   \n",
      "                                                                 \n",
      " dropout_1 (Dropout)         (None, 2048)              0         \n",
      "                                                                 \n",
      " dense_1 (Dense)             (None, 1024)              2098176   \n",
      "                                                                 \n",
      " dropout_2 (Dropout)         (None, 1024)              0         \n",
      "                                                                 \n",
      " dense_2 (Dense)             (None, 2)                 2050      \n",
      "                                                                 \n",
      "=================================================================\n",
      "Total params: 10223490 (39.00 MB)\n",
      "Trainable params: 10223490 (39.00 MB)\n",
      "Non-trainable params: 0 (0.00 Byte)\n",
      "_________________________________________________________________\n"
     ]
    }
   ],
   "source": [
    "model.summary()"
   ]
  },
  {
   "cell_type": "code",
   "execution_count": 8,
   "metadata": {},
   "outputs": [
    {
     "name": "stdout",
     "output_type": "stream",
     "text": [
      "Epoch 1/50\n",
      "15/15 [==============================] - 34s 2s/step - loss: 0.8385 - accuracy: 0.7500 - val_loss: 0.4436 - val_accuracy: 0.7538\n",
      "Epoch 2/50\n",
      "15/15 [==============================] - 30s 2s/step - loss: 0.3606 - accuracy: 0.7583 - val_loss: 0.3535 - val_accuracy: 0.7538\n",
      "Epoch 3/50\n",
      "15/15 [==============================] - 29s 2s/step - loss: 0.3923 - accuracy: 0.7625 - val_loss: 0.5077 - val_accuracy: 0.6332\n",
      "Epoch 4/50\n",
      "15/15 [==============================] - 29s 2s/step - loss: 0.4712 - accuracy: 0.7292 - val_loss: 0.3545 - val_accuracy: 0.7538\n",
      "Epoch 5/50\n",
      "15/15 [==============================] - 31s 2s/step - loss: 0.3564 - accuracy: 0.8083 - val_loss: 0.4860 - val_accuracy: 0.6583\n",
      "Epoch 6/50\n",
      "15/15 [==============================] - 34s 2s/step - loss: 0.6305 - accuracy: 0.6708 - val_loss: 0.5504 - val_accuracy: 0.7085\n",
      "Epoch 7/50\n",
      "15/15 [==============================] - 31s 2s/step - loss: 0.4490 - accuracy: 0.7417 - val_loss: 0.3065 - val_accuracy: 0.7538\n",
      "Epoch 8/50\n",
      "15/15 [==============================] - 31s 2s/step - loss: 0.2782 - accuracy: 0.8292 - val_loss: 0.3084 - val_accuracy: 0.8844\n",
      "Epoch 9/50\n",
      "15/15 [==============================] - 31s 2s/step - loss: 0.3703 - accuracy: 0.8000 - val_loss: 0.3405 - val_accuracy: 0.8090\n",
      "Epoch 10/50\n",
      "15/15 [==============================] - 32s 2s/step - loss: 0.3553 - accuracy: 0.8583 - val_loss: 0.2805 - val_accuracy: 0.8995\n",
      "Epoch 11/50\n",
      "15/15 [==============================] - 34s 2s/step - loss: 0.3012 - accuracy: 0.8958 - val_loss: 0.2325 - val_accuracy: 0.9095\n",
      "Epoch 12/50\n",
      "15/15 [==============================] - 32s 2s/step - loss: 0.3404 - accuracy: 0.8875 - val_loss: 0.2095 - val_accuracy: 0.9095\n",
      "Epoch 13/50\n",
      "15/15 [==============================] - 29s 2s/step - loss: 0.2310 - accuracy: 0.9125 - val_loss: 0.2792 - val_accuracy: 0.9095\n",
      "Epoch 14/50\n",
      "15/15 [==============================] - 29s 2s/step - loss: 0.2815 - accuracy: 0.8875 - val_loss: 0.3347 - val_accuracy: 0.8090\n",
      "Epoch 15/50\n",
      "15/15 [==============================] - 28s 2s/step - loss: 0.2707 - accuracy: 0.8625 - val_loss: 0.2391 - val_accuracy: 0.9196\n",
      "Epoch 16/50\n",
      "15/15 [==============================] - 31s 2s/step - loss: 0.3045 - accuracy: 0.8833 - val_loss: 0.2970 - val_accuracy: 0.7940\n",
      "Epoch 17/50\n",
      "15/15 [==============================] - 33s 2s/step - loss: 0.2452 - accuracy: 0.9167 - val_loss: 0.1872 - val_accuracy: 0.9246\n",
      "Epoch 18/50\n",
      "15/15 [==============================] - 31s 2s/step - loss: 0.2069 - accuracy: 0.9083 - val_loss: 0.1812 - val_accuracy: 0.9296\n",
      "Epoch 19/50\n",
      "15/15 [==============================] - 31s 2s/step - loss: 0.2260 - accuracy: 0.9125 - val_loss: 0.2005 - val_accuracy: 0.9196\n",
      "Epoch 20/50\n",
      "15/15 [==============================] - 33s 2s/step - loss: 0.1865 - accuracy: 0.9083 - val_loss: 0.1648 - val_accuracy: 0.9397\n",
      "Epoch 21/50\n",
      "15/15 [==============================] - 33s 2s/step - loss: 0.2296 - accuracy: 0.9250 - val_loss: 0.1606 - val_accuracy: 0.9447\n",
      "Epoch 22/50\n",
      "15/15 [==============================] - 29s 2s/step - loss: 0.1272 - accuracy: 0.9583 - val_loss: 0.1632 - val_accuracy: 0.9246\n",
      "Epoch 23/50\n",
      "15/15 [==============================] - 32s 2s/step - loss: 0.1909 - accuracy: 0.9542 - val_loss: 0.1971 - val_accuracy: 0.9246\n",
      "Epoch 24/50\n",
      "15/15 [==============================] - 27s 2s/step - loss: 0.1204 - accuracy: 0.9375 - val_loss: 0.1435 - val_accuracy: 0.9497\n",
      "Epoch 25/50\n",
      "15/15 [==============================] - 30s 2s/step - loss: 0.1865 - accuracy: 0.9500 - val_loss: 0.1439 - val_accuracy: 0.9497\n",
      "Epoch 26/50\n",
      "15/15 [==============================] - 29s 2s/step - loss: 0.1330 - accuracy: 0.9417 - val_loss: 0.1455 - val_accuracy: 0.9246\n",
      "Epoch 27/50\n",
      "15/15 [==============================] - 31s 2s/step - loss: 0.1690 - accuracy: 0.9208 - val_loss: 0.1570 - val_accuracy: 0.9045\n",
      "Epoch 28/50\n",
      "15/15 [==============================] - 30s 2s/step - loss: 0.1746 - accuracy: 0.8875 - val_loss: 0.1741 - val_accuracy: 0.9397\n",
      "Epoch 29/50\n",
      "15/15 [==============================] - 31s 2s/step - loss: 0.3248 - accuracy: 0.9208 - val_loss: 0.1986 - val_accuracy: 0.9045\n",
      "Epoch 30/50\n",
      "15/15 [==============================] - 28s 2s/step - loss: 0.3030 - accuracy: 0.9083 - val_loss: 0.2076 - val_accuracy: 0.9296\n",
      "Epoch 31/50\n",
      "15/15 [==============================] - 498s 35s/step - loss: 0.1917 - accuracy: 0.9500 - val_loss: 0.2153 - val_accuracy: 0.9095\n",
      "Epoch 32/50\n",
      "15/15 [==============================] - 18s 1s/step - loss: 0.1204 - accuracy: 0.9792 - val_loss: 0.2358 - val_accuracy: 0.9397\n",
      "Epoch 33/50\n",
      "15/15 [==============================] - 17s 1s/step - loss: 0.1909 - accuracy: 0.9333 - val_loss: 0.1554 - val_accuracy: 0.9497\n",
      "Epoch 34/50\n",
      "15/15 [==============================] - 16s 1s/step - loss: 0.2077 - accuracy: 0.9292 - val_loss: 0.1522 - val_accuracy: 0.9497\n",
      "Epoch 35/50\n",
      "15/15 [==============================] - 17s 1s/step - loss: 0.2247 - accuracy: 0.9208 - val_loss: 0.1542 - val_accuracy: 0.9246\n",
      "Epoch 36/50\n",
      "15/15 [==============================] - 27s 2s/step - loss: 0.2594 - accuracy: 0.9375 - val_loss: 0.5642 - val_accuracy: 0.8593\n",
      "Epoch 37/50\n",
      "15/15 [==============================] - 29s 2s/step - loss: 0.2285 - accuracy: 0.9250 - val_loss: 0.1873 - val_accuracy: 0.9296\n",
      "Epoch 38/50\n",
      "15/15 [==============================] - 26s 2s/step - loss: 0.2080 - accuracy: 0.9208 - val_loss: 0.1941 - val_accuracy: 0.9246\n",
      "Epoch 39/50\n",
      "15/15 [==============================] - 29s 2s/step - loss: 0.1188 - accuracy: 0.9625 - val_loss: 0.2321 - val_accuracy: 0.9246\n",
      "Epoch 40/50\n",
      "15/15 [==============================] - 29s 2s/step - loss: 0.2129 - accuracy: 0.9208 - val_loss: 0.1813 - val_accuracy: 0.9246\n",
      "Epoch 41/50\n",
      "15/15 [==============================] - 31s 2s/step - loss: 0.1515 - accuracy: 0.9250 - val_loss: 0.1914 - val_accuracy: 0.9146\n",
      "Epoch 42/50\n",
      "15/15 [==============================] - 30s 2s/step - loss: 0.0850 - accuracy: 0.9750 - val_loss: 0.2260 - val_accuracy: 0.9296\n",
      "Epoch 43/50\n",
      "15/15 [==============================] - 30s 2s/step - loss: 0.2489 - accuracy: 0.9333 - val_loss: 0.1825 - val_accuracy: 0.9347\n",
      "Epoch 44/50\n",
      "15/15 [==============================] - 30s 2s/step - loss: 0.1802 - accuracy: 0.9417 - val_loss: 0.2150 - val_accuracy: 0.9146\n",
      "Epoch 45/50\n",
      "15/15 [==============================] - 31s 2s/step - loss: 0.1509 - accuracy: 0.9458 - val_loss: 0.2036 - val_accuracy: 0.9196\n",
      "Epoch 46/50\n",
      "15/15 [==============================] - 31s 2s/step - loss: 0.1707 - accuracy: 0.9292 - val_loss: 0.1803 - val_accuracy: 0.9347\n",
      "Epoch 47/50\n",
      "15/15 [==============================] - 29s 2s/step - loss: 0.1443 - accuracy: 0.9417 - val_loss: 0.2110 - val_accuracy: 0.8995\n",
      "Epoch 48/50\n",
      "15/15 [==============================] - 29s 2s/step - loss: 0.0874 - accuracy: 0.9667 - val_loss: 0.2221 - val_accuracy: 0.9196\n",
      "Epoch 49/50\n",
      "15/15 [==============================] - 32s 2s/step - loss: 0.1850 - accuracy: 0.9333 - val_loss: 0.1867 - val_accuracy: 0.9347\n",
      "Epoch 50/50\n",
      "15/15 [==============================] - 28s 2s/step - loss: 0.1339 - accuracy: 0.9458 - val_loss: 0.1626 - val_accuracy: 0.9447\n"
     ]
    }
   ],
   "source": [
    "history=model.fit(train_generator,steps_per_epoch=15,epochs=50,validation_data=validation_generator,validation_steps=None)"
   ]
  },
  {
   "cell_type": "code",
   "execution_count": 9,
   "metadata": {},
   "outputs": [],
   "source": [
    "import matplotlib.pyplot as plt\n",
    "acc=history.history[\"accuracy\"]\n",
    "val_acc=history.history[\"val_accuracy\"]\n",
    "loss=history.history[\"loss\"]\n",
    "val_loss=history.history[\"val_loss\"]\n",
    "epochs=range(0,50)"
   ]
  },
  {
   "cell_type": "code",
   "execution_count": 10,
   "metadata": {},
   "outputs": [
    {
     "data": {
      "image/png": "[encoded data removed]",
      "text/plain": [
       "<Figure size 640x480 with 1 Axes>"
      ]
     },
     "metadata": {},
     "output_type": "display_data"
    },
    {
     "data": {
      "text/plain": [
       "<Figure size 640x480 with 0 Axes>"
      ]
     },
     "metadata": {},
     "output_type": "display_data"
    }
   ],
   "source": [
    "plt.plot(epochs,acc,label=\"train-acc\")\n",
    "plt.plot(epochs,val_acc,label=\"val-acc\")\n",
    "plt.title(\"training and validation acc\")\n",
    "plt.legend(loc=0)\n",
    "plt.figure()\n",
    "plt.show()"
   ]
  },
  {
   "cell_type": "code",
   "execution_count": 11,
   "metadata": {},
   "outputs": [
    {
     "data": {
      "image/png": "[encoded data removed]",
      "text/plain": [
       "<Figure size 640x480 with 1 Axes>"
      ]
     },
     "metadata": {},
     "output_type": "display_data"
    },
    {
     "data": {
      "text/plain": [
       "<Figure size 640x480 with 0 Axes>"
      ]
     },
     "metadata": {},
     "output_type": "display_data"
    }
   ],
   "source": [
    "plt.plot(epochs,loss,label=\"train-loss\")\n",
    "plt.plot(epochs,val_loss,label=\"val-loss\")\n",
    "plt.title(\"training and validation loss\")\n",
    "plt.legend(loc=0)\n",
    "plt.figure()\n",
    "plt.show()"
   ]
  },
  {
   "cell_type": "code",
   "execution_count": 12,
   "metadata": {},
   "outputs": [
    {
     "name": "stderr",
     "output_type": "stream",
     "text": [
      "C:\\Users\\Ertuğrul\\AppData\\Roaming\\Python\\Python310\\site-packages\\keras\\src\\engine\\training.py:3000: UserWarning: You are saving your model as an HDF5 file via `model.save()`. This file format is considered legacy. We recommend using instead the native Keras format, e.g. `model.save('my_model.keras')`.\n",
      "  saving_api.save_model(\n"
     ]
    }
   ],
   "source": [
    "model.save(\"model-fire.h5\")"
   ]
  },
  {
   "cell_type": "code",
   "execution_count": 1,
   "metadata": {},
   "outputs": [],
   "source": [
    "import cv2\n",
    "import numpy as np\n",
    "from keras.models import load_model\n"
   ]
  },
  {
   "cell_type": "code",
   "execution_count": 2,
   "metadata": {},
   "outputs": [],
   "source": [
    "model=load_model(\"model-fire.h5\")"
   ]
  },
  {
   "cell_type": "code",
   "execution_count": 21,
   "metadata": {},
   "outputs": [
    {
     "name": "stdout",
     "output_type": "stream",
     "text": [
      "(224, 224, 3)\n"
     ]
    }
   ],
   "source": [
    "path=\"fire_dataset/Test/non-fire2.jpg\"\n",
    "test_img=cv2.imread(path)\n",
    "img=np.asarray(test_img)\n",
    "img=cv2.resize(img,(224,224))\n",
    "img=img/255\n",
    "print(img.shape)"
   ]
  },
  {
   "cell_type": "code",
   "execution_count": 22,
   "metadata": {},
   "outputs": [
    {
     "data": {
      "text/plain": [
       "(1, 224, 224, 3)"
      ]
     },
     "execution_count": 22,
     "metadata": {},
     "output_type": "execute_result"
    }
   ],
   "source": [
    "img=img.reshape(1,224,224,3)\n",
    "img.shape"
   ]
  },
  {
   "cell_type": "code",
   "execution_count": 23,
   "metadata": {},
   "outputs": [
    {
     "name": "stdout",
     "output_type": "stream",
     "text": [
      "1/1 [==============================] - 0s 24ms/step\n",
      "[[0.06240632 0.93759364]]\n"
     ]
    },
    {
     "data": {
      "text/plain": [
       "0.93759364"
      ]
     },
     "execution_count": 23,
     "metadata": {},
     "output_type": "execute_result"
    }
   ],
   "source": [
    "prediction=model.predict(img)\n",
    "print(prediction)\n",
    "pred=max(prediction[0])\n",
    "pred"
   ]
  },
  {
   "cell_type": "code",
   "execution_count": 24,
   "metadata": {},
   "outputs": [
    {
     "data": {
      "text/plain": [
       "1"
      ]
     },
     "execution_count": 24,
     "metadata": {},
     "output_type": "execute_result"
    }
   ],
   "source": [
    "pred=np.argmax(prediction[0])\n",
    "pred"
   ]
  },
  {
   "cell_type": "code",
   "execution_count": 25,
   "metadata": {},
   "outputs": [
    {
     "data": {
      "text/plain": [
       "0.93759364"
      ]
     },
     "execution_count": 25,
     "metadata": {},
     "output_type": "execute_result"
    }
   ],
   "source": [
    "prob=prediction[0][pred]\n",
    "prob"
   ]
  },
  {
   "cell_type": "code",
   "execution_count": 26,
   "metadata": {},
   "outputs": [],
   "source": [
    "prob_y=\"{:.2f}\".format(prob)"
   ]
  },
  {
   "cell_type": "code",
   "execution_count": 27,
   "metadata": {},
   "outputs": [],
   "source": [
    "if pred==1:\n",
    "    label=\"no fire\"\n",
    "else:\n",
    "    label=\"fire\""
   ]
  },
  {
   "cell_type": "code",
   "execution_count": 28,
   "metadata": {},
   "outputs": [
    {
     "data": {
      "text/plain": [
       "<function destroyAllWindows>"
      ]
     },
     "execution_count": 28,
     "metadata": {},
     "output_type": "execute_result"
    }
   ],
   "source": [
    "font=cv2.FONT_HERSHEY_SIMPLEX\n",
    "cv2.putText(test_img,label,(35,50),font,1,(255,0,0),2)\n",
    "cv2.putText(test_img,label,(35,50),font,1,(255,0,0),2)\n",
    "cv2.imshow(\"result: \",test_img)\n",
    "cv2.waitKey(0)\n",
    "cv2.destroyAllWindows"
   ]
  },
  {
   "cell_type": "code",
   "execution_count": 12,
   "metadata": {},
   "outputs": [
    {
     "name": "stdout",
     "output_type": "stream",
     "text": [
      "1/1 [==============================] - 0s 21ms/step\n",
      "1/1 [==============================] - 0s 22ms/step\n",
      "1/1 [==============================] - 0s 25ms/step\n",
      "1/1 [==============================] - 0s 22ms/step\n",
      "1/1 [==============================] - 0s 23ms/step\n",
      "1/1 [==============================] - 0s 23ms/step\n",
      "1/1 [==============================] - 0s 21ms/step\n",
      "1/1 [==============================] - 0s 21ms/step\n",
      "1/1 [==============================] - 0s 21ms/step\n",
      "1/1 [==============================] - 0s 21ms/step\n",
      "1/1 [==============================] - 0s 22ms/step\n",
      "1/1 [==============================] - 0s 22ms/step\n",
      "1/1 [==============================] - 0s 21ms/step\n",
      "1/1 [==============================] - 0s 21ms/step\n",
      "1/1 [==============================] - 0s 20ms/step\n",
      "1/1 [==============================] - 0s 21ms/step\n",
      "1/1 [==============================] - 0s 20ms/step\n",
      "1/1 [==============================] - 0s 21ms/step\n",
      "1/1 [==============================] - 0s 23ms/step\n",
      "1/1 [==============================] - 0s 20ms/step\n",
      "1/1 [==============================] - 0s 21ms/step\n",
      "1/1 [==============================] - 0s 20ms/step\n",
      "1/1 [==============================] - 0s 21ms/step\n",
      "1/1 [==============================] - 0s 20ms/step\n",
      "1/1 [==============================] - 0s 21ms/step\n",
      "1/1 [==============================] - 0s 20ms/step\n",
      "1/1 [==============================] - 0s 20ms/step\n",
      "1/1 [==============================] - 0s 21ms/step\n",
      "1/1 [==============================] - 0s 20ms/step\n",
      "1/1 [==============================] - 0s 20ms/step\n",
      "1/1 [==============================] - 0s 21ms/step\n",
      "1/1 [==============================] - 0s 20ms/step\n",
      "1/1 [==============================] - 0s 20ms/step\n",
      "1/1 [==============================] - 0s 20ms/step\n",
      "1/1 [==============================] - 0s 21ms/step\n",
      "1/1 [==============================] - 0s 20ms/step\n",
      "1/1 [==============================] - 0s 20ms/step\n",
      "1/1 [==============================] - 0s 21ms/step\n",
      "1/1 [==============================] - 0s 21ms/step\n",
      "1/1 [==============================] - 0s 22ms/step\n",
      "1/1 [==============================] - 0s 21ms/step\n",
      "1/1 [==============================] - 0s 21ms/step\n",
      "1/1 [==============================] - 0s 21ms/step\n",
      "1/1 [==============================] - 0s 21ms/step\n",
      "1/1 [==============================] - 0s 22ms/step\n",
      "1/1 [==============================] - 0s 20ms/step\n",
      "1/1 [==============================] - 0s 21ms/step\n",
      "1/1 [==============================] - 0s 22ms/step\n",
      "1/1 [==============================] - 0s 21ms/step\n",
      "1/1 [==============================] - 0s 22ms/step\n",
      "1/1 [==============================] - 0s 23ms/step\n",
      "1/1 [==============================] - 0s 20ms/step\n",
      "1/1 [==============================] - 0s 21ms/step\n",
      "1/1 [==============================] - 0s 20ms/step\n",
      "1/1 [==============================] - 0s 21ms/step\n",
      "1/1 [==============================] - 0s 22ms/step\n",
      "1/1 [==============================] - 0s 21ms/step\n",
      "1/1 [==============================] - 0s 21ms/step\n",
      "1/1 [==============================] - 0s 20ms/step\n",
      "1/1 [==============================] - 0s 22ms/step\n",
      "1/1 [==============================] - 0s 20ms/step\n",
      "1/1 [==============================] - 0s 21ms/step\n",
      "1/1 [==============================] - 0s 21ms/step\n",
      "1/1 [==============================] - 0s 21ms/step\n",
      "1/1 [==============================] - 0s 21ms/step\n",
      "1/1 [==============================] - 0s 20ms/step\n",
      "1/1 [==============================] - 0s 20ms/step\n",
      "1/1 [==============================] - 0s 21ms/step\n",
      "1/1 [==============================] - 0s 22ms/step\n",
      "1/1 [==============================] - 0s 21ms/step\n",
      "1/1 [==============================] - 0s 22ms/step\n",
      "1/1 [==============================] - 0s 21ms/step\n",
      "1/1 [==============================] - 0s 21ms/step\n",
      "1/1 [==============================] - 0s 21ms/step\n",
      "1/1 [==============================] - 0s 21ms/step\n",
      "1/1 [==============================] - 0s 21ms/step\n",
      "1/1 [==============================] - 0s 20ms/step\n",
      "1/1 [==============================] - 0s 20ms/step\n",
      "1/1 [==============================] - 0s 20ms/step\n",
      "1/1 [==============================] - 0s 21ms/step\n",
      "1/1 [==============================] - 0s 20ms/step\n",
      "1/1 [==============================] - 0s 22ms/step\n",
      "1/1 [==============================] - 0s 21ms/step\n",
      "1/1 [==============================] - 0s 21ms/step\n",
      "1/1 [==============================] - 0s 21ms/step\n",
      "1/1 [==============================] - 0s 21ms/step\n",
      "1/1 [==============================] - 0s 21ms/step\n",
      "1/1 [==============================] - 0s 22ms/step\n",
      "1/1 [==============================] - 0s 21ms/step\n",
      "1/1 [==============================] - 0s 22ms/step\n",
      "1/1 [==============================] - 0s 22ms/step\n",
      "1/1 [==============================] - 0s 22ms/step\n",
      "1/1 [==============================] - 0s 22ms/step\n",
      "1/1 [==============================] - 0s 21ms/step\n",
      "1/1 [==============================] - 0s 21ms/step\n",
      "1/1 [==============================] - 0s 21ms/step\n",
      "1/1 [==============================] - 0s 21ms/step\n",
      "1/1 [==============================] - 0s 22ms/step\n",
      "1/1 [==============================] - 0s 21ms/step\n",
      "1/1 [==============================] - 0s 20ms/step\n",
      "1/1 [==============================] - 0s 21ms/step\n",
      "1/1 [==============================] - 0s 21ms/step\n",
      "1/1 [==============================] - 0s 21ms/step\n",
      "1/1 [==============================] - 0s 20ms/step\n",
      "1/1 [==============================] - 0s 21ms/step\n"
     ]
    }
   ],
   "source": [
    "video_path=\"fire_dataset/Test/firevideo.mp4\"\n",
    "cap=cv2.VideoCapture(video_path)\n",
    "while True:\n",
    "    ret,frame=cap.read()\n",
    "    img=np.asarray(frame)\n",
    "    img=cv2.resize(img,(224,224))\n",
    "    img=img/255\n",
    "    img=img.reshape(1,224,224,3)\n",
    "    prediction=model.predict(img)\n",
    "    pred=max(prediction[0])\n",
    "    pred=np.argmax(prediction[0])\n",
    "    prob=prediction[0][pred]\n",
    "    prob_y=\"{:.2f}\".format(prob)\n",
    "    if prob<0.5:\n",
    "        label=\"no fire\"\n",
    "    else:\n",
    "        label=\"fire\"\n",
    "\n",
    "    font=cv2.FONT_HERSHEY_SIMPLEX\n",
    "    cv2.putText(frame,label,(35,50),font,1,(255,0,0),2)\n",
    "    cv2.putText(frame,prob_y,(35,80),font,1,(255,0,0),2)\n",
    "    cv2.imshow(\"Result: \",frame)\n",
    "    if cv2.waitKey(1) & 0xFF == ord(chr(27)):\n",
    "        break\n",
    "    \n",
    "cap.release()\n",
    "cv2.destroyAllWindows()  "
   ]
  }
 ],
 "metadata": {
  "kernelspec": {
   "display_name": "base",
   "language": "python",
   "name": "python3"
  },
  "language_info": {
   "codemirror_mode": {
    "name": "ipython",
    "version": 3
   },
   "file_extension": ".py",
   "mimetype": "text/x-python",
   "name": "python",
   "nbconvert_exporter": "python",
   "pygments_lexer": "ipython3",
   "version": "3.10.9"
  },
  "orig_nbformat": 4
 },
 "nbformat": 4,
 "nbformat_minor": 2
}
